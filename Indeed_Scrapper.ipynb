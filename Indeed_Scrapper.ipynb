{
 "cells": [
  {
   "cell_type": "code",
   "execution_count": 1,
   "id": "a794865c-9074-4c20-80e3-b43cefec4b7a",
   "metadata": {},
   "outputs": [],
   "source": [
    "import requests\n",
    "from bs4 import BeautifulSoup\n",
    "import csv\n",
    "from datetime import datetime\n",
    "from random import randint\n",
    "from time import sleep\n",
    "\n"
   ]
  },
  {
   "cell_type": "code",
   "execution_count": 3,
   "id": "cba5e814-9340-41bb-bdb5-2a4eced4a913",
   "metadata": {},
   "outputs": [],
   "source": [
    "headers = {\n",
    "    'User-Agent': 'Mozilla/5.0 (Windows NT 10.0; Win64; x64) AppleWebKit/537.36 (KHTML, like Gecko) Chrome/87.0.4280.67 Safari/537.36'\n",
    "}\n"
   ]
  },
  {
   "cell_type": "code",
   "execution_count": 5,
   "id": "a85171dd-3fb7-4ab8-a555-5a26af53b34e",
   "metadata": {},
   "outputs": [],
   "source": [
    "import time\n",
    "from random import randint\n",
    "\n",
    "delay = randint(2, 6)  # Random delay between 2 to 6 seconds\n",
    "time.sleep(delay)\n"
   ]
  },
  {
   "cell_type": "code",
   "execution_count": 7,
   "id": "39839bf9-5ea9-46a5-8133-cbb132c6f3bb",
   "metadata": {},
   "outputs": [
    {
     "name": "stdout",
     "output_type": "stream",
     "text": [
      "Requirement already satisfied: selenium in c:\\users\\manal\\anaconda3\\lib\\site-packages (4.27.1)Note: you may need to restart the kernel to use updated packages.\n",
      "\n",
      "Requirement already satisfied: urllib3<3,>=1.26 in c:\\users\\manal\\anaconda3\\lib\\site-packages (from urllib3[socks]<3,>=1.26->selenium) (2.2.2)\n",
      "Requirement already satisfied: trio~=0.17 in c:\\users\\manal\\anaconda3\\lib\\site-packages (from selenium) (0.27.0)\n",
      "Requirement already satisfied: trio-websocket~=0.9 in c:\\users\\manal\\anaconda3\\lib\\site-packages (from selenium) (0.11.1)\n",
      "Requirement already satisfied: certifi>=2021.10.8 in c:\\users\\manal\\anaconda3\\lib\\site-packages (from selenium) (2024.8.30)\n",
      "Requirement already satisfied: typing_extensions~=4.9 in c:\\users\\manal\\anaconda3\\lib\\site-packages (from selenium) (4.11.0)\n",
      "Requirement already satisfied: websocket-client~=1.8 in c:\\users\\manal\\anaconda3\\lib\\site-packages (from selenium) (1.8.0)\n",
      "Requirement already satisfied: attrs>=23.2.0 in c:\\users\\manal\\anaconda3\\lib\\site-packages (from trio~=0.17->selenium) (24.3.0)\n",
      "Requirement already satisfied: sortedcontainers in c:\\users\\manal\\anaconda3\\lib\\site-packages (from trio~=0.17->selenium) (2.4.0)\n",
      "Requirement already satisfied: idna in c:\\users\\manal\\anaconda3\\lib\\site-packages (from trio~=0.17->selenium) (3.7)\n",
      "Requirement already satisfied: outcome in c:\\users\\manal\\anaconda3\\lib\\site-packages (from trio~=0.17->selenium) (1.3.0.post0)\n",
      "Requirement already satisfied: sniffio>=1.3.0 in c:\\users\\manal\\anaconda3\\lib\\site-packages (from trio~=0.17->selenium) (1.3.0)\n",
      "Requirement already satisfied: cffi>=1.14 in c:\\users\\manal\\anaconda3\\lib\\site-packages (from trio~=0.17->selenium) (1.16.0)\n",
      "Requirement already satisfied: wsproto>=0.14 in c:\\users\\manal\\anaconda3\\lib\\site-packages (from trio-websocket~=0.9->selenium) (1.2.0)\n",
      "Requirement already satisfied: pysocks!=1.5.7,<2.0,>=1.5.6 in c:\\users\\manal\\anaconda3\\lib\\site-packages (from urllib3[socks]<3,>=1.26->selenium) (1.7.1)\n",
      "Requirement already satisfied: pycparser in c:\\users\\manal\\anaconda3\\lib\\site-packages (from cffi>=1.14->trio~=0.17->selenium) (2.21)\n",
      "Requirement already satisfied: h11<1,>=0.9.0 in c:\\users\\manal\\anaconda3\\lib\\site-packages (from wsproto>=0.14->trio-websocket~=0.9->selenium) (0.14.0)\n"
     ]
    }
   ],
   "source": [
    "pip install selenium\n"
   ]
  },
  {
   "cell_type": "code",
   "execution_count": 9,
   "id": "7d12e759-7e9d-4e50-9e1c-25848e436afa",
   "metadata": {},
   "outputs": [
    {
     "name": "stdout",
     "output_type": "stream",
     "text": [
      "Data saved to indeed_jobs.csv\n"
     ]
    }
   ],
   "source": [
    "from selenium import webdriver\n",
    "from selenium.webdriver.common.by import By\n",
    "import pandas as pd\n",
    "import time\n",
    "\n",
    "# Set up Selenium WebDriver\n",
    "driver = webdriver.Chrome()  # Ensure you have the ChromeDriver installed\n",
    "\n",
    "# Open the Indeed page\n",
    "url = \"https://www.indeed.com/jobs?q=Software+Engineer&l=San+Francisco\"\n",
    "driver.get(url)\n",
    "\n",
    "# Allow time for the page to load\n",
    "time.sleep(5)\n",
    "\n",
    "# Scrape job data\n",
    "jobs = []\n",
    "job_cards = driver.find_elements(By.CLASS_NAME, 'tapItem')  # Update class name if needed\n",
    "\n",
    "for card in job_cards:\n",
    "    try:\n",
    "        job_title = card.find_element(By.CLASS_NAME, 'jobTitle').text\n",
    "    except:\n",
    "        job_title = 'N/A'\n",
    "    try:\n",
    "        company_name = card.find_element(By.CLASS_NAME, 'companyName').text\n",
    "    except:\n",
    "        company_name = 'N/A'\n",
    "    try:\n",
    "        location = card.find_element(By.CLASS_NAME, 'companyLocation').text\n",
    "    except:\n",
    "        location = 'N/A'\n",
    "    try:\n",
    "        job_link = card.find_element(By.TAG_NAME, 'a').get_attribute('href')\n",
    "    except:\n",
    "        job_link = 'N/A'\n",
    "\n",
    "    jobs.append({\n",
    "        'Job Title': job_title,\n",
    "        'Company': company_name,\n",
    "        'Location': location,\n",
    "        'Job Link': job_link\n",
    "    })\n",
    "\n",
    "# Close the browser\n",
    "driver.quit()\n",
    "\n",
    "# Save data to CSV\n",
    "df = pd.DataFrame(jobs)\n",
    "df.to_csv('indeed_jobs.csv', index=False)\n",
    "print(\"Data saved to indeed_jobs.csv\")\n"
   ]
  },
  {
   "cell_type": "code",
   "execution_count": 11,
   "id": "de4504e9-d4ab-4fce-84e1-a53a20b30f2e",
   "metadata": {},
   "outputs": [],
   "source": [
    "cmp = pd.read_csv(\"indeed_jobs.csv\")"
   ]
  },
  {
   "cell_type": "code",
   "execution_count": 13,
   "id": "92f2e719-cdd3-4f0f-8ac2-bac2d9865e15",
   "metadata": {},
   "outputs": [
    {
     "data": {
      "text/html": [
       "<div>\n",
       "<style scoped>\n",
       "    .dataframe tbody tr th:only-of-type {\n",
       "        vertical-align: middle;\n",
       "    }\n",
       "\n",
       "    .dataframe tbody tr th {\n",
       "        vertical-align: top;\n",
       "    }\n",
       "\n",
       "    .dataframe thead th {\n",
       "        text-align: right;\n",
       "    }\n",
       "</style>\n",
       "<table border=\"1\" class=\"dataframe\">\n",
       "  <thead>\n",
       "    <tr style=\"text-align: right;\">\n",
       "      <th></th>\n",
       "      <th>Job Title</th>\n",
       "      <th>Company</th>\n",
       "      <th>Location</th>\n",
       "      <th>Job Link</th>\n",
       "    </tr>\n",
       "  </thead>\n",
       "  <tbody>\n",
       "    <tr>\n",
       "      <th>0</th>\n",
       "      <td>Software Development Engineer II</td>\n",
       "      <td>NaN</td>\n",
       "      <td>NaN</td>\n",
       "      <td>https://www.indeed.com/rc/clk?jk=e314e8cb2d874...</td>\n",
       "    </tr>\n",
       "    <tr>\n",
       "      <th>1</th>\n",
       "      <td>Software Engineer - Backend</td>\n",
       "      <td>NaN</td>\n",
       "      <td>NaN</td>\n",
       "      <td>https://www.indeed.com/rc/clk?jk=4e374fc1b69d6...</td>\n",
       "    </tr>\n",
       "    <tr>\n",
       "      <th>2</th>\n",
       "      <td>Software Engineer II, Backend (Ledger Engineer...</td>\n",
       "      <td>NaN</td>\n",
       "      <td>NaN</td>\n",
       "      <td>https://www.indeed.com/rc/clk?jk=989e6bc7057a0...</td>\n",
       "    </tr>\n",
       "    <tr>\n",
       "      <th>3</th>\n",
       "      <td>Software Engineer, Simulation, Tesla Bot</td>\n",
       "      <td>NaN</td>\n",
       "      <td>NaN</td>\n",
       "      <td>https://www.indeed.com/rc/clk?jk=f4d5128fc3f1d...</td>\n",
       "    </tr>\n",
       "    <tr>\n",
       "      <th>4</th>\n",
       "      <td>Staff Software Engineer, Customer Obsession</td>\n",
       "      <td>NaN</td>\n",
       "      <td>NaN</td>\n",
       "      <td>https://www.indeed.com/rc/clk?jk=5c1f7783d4244...</td>\n",
       "    </tr>\n",
       "    <tr>\n",
       "      <th>5</th>\n",
       "      <td>Frontend Engineer</td>\n",
       "      <td>NaN</td>\n",
       "      <td>NaN</td>\n",
       "      <td>https://www.indeed.com/rc/clk?jk=d7a79f4debb76...</td>\n",
       "    </tr>\n",
       "    <tr>\n",
       "      <th>6</th>\n",
       "      <td>Backend Software Engineer, Tesla Bot &amp; Robotaxi</td>\n",
       "      <td>NaN</td>\n",
       "      <td>NaN</td>\n",
       "      <td>https://www.indeed.com/rc/clk?jk=f2e3b39c3986a...</td>\n",
       "    </tr>\n",
       "    <tr>\n",
       "      <th>7</th>\n",
       "      <td>Software Engineer II, Full Stack (Capital Orch...</td>\n",
       "      <td>NaN</td>\n",
       "      <td>NaN</td>\n",
       "      <td>https://www.indeed.com/rc/clk?jk=7b3066204f040...</td>\n",
       "    </tr>\n",
       "  </tbody>\n",
       "</table>\n",
       "</div>"
      ],
      "text/plain": [
       "                                           Job Title  Company  Location  \\\n",
       "0                   Software Development Engineer II      NaN       NaN   \n",
       "1                        Software Engineer - Backend      NaN       NaN   \n",
       "2  Software Engineer II, Backend (Ledger Engineer...      NaN       NaN   \n",
       "3           Software Engineer, Simulation, Tesla Bot      NaN       NaN   \n",
       "4        Staff Software Engineer, Customer Obsession      NaN       NaN   \n",
       "5                                  Frontend Engineer      NaN       NaN   \n",
       "6    Backend Software Engineer, Tesla Bot & Robotaxi      NaN       NaN   \n",
       "7  Software Engineer II, Full Stack (Capital Orch...      NaN       NaN   \n",
       "\n",
       "                                            Job Link  \n",
       "0  https://www.indeed.com/rc/clk?jk=e314e8cb2d874...  \n",
       "1  https://www.indeed.com/rc/clk?jk=4e374fc1b69d6...  \n",
       "2  https://www.indeed.com/rc/clk?jk=989e6bc7057a0...  \n",
       "3  https://www.indeed.com/rc/clk?jk=f4d5128fc3f1d...  \n",
       "4  https://www.indeed.com/rc/clk?jk=5c1f7783d4244...  \n",
       "5  https://www.indeed.com/rc/clk?jk=d7a79f4debb76...  \n",
       "6  https://www.indeed.com/rc/clk?jk=f2e3b39c3986a...  \n",
       "7  https://www.indeed.com/rc/clk?jk=7b3066204f040...  "
      ]
     },
     "execution_count": 13,
     "metadata": {},
     "output_type": "execute_result"
    }
   ],
   "source": [
    "cmp.head(8)"
   ]
  },
  {
   "cell_type": "code",
   "execution_count": 17,
   "id": "cd19d102-8023-4f04-b4c8-b07830f26384",
   "metadata": {},
   "outputs": [
    {
     "data": {
      "text/plain": [
       "<bound method NDFrame.describe of                                             Job Title  Company  Location  \\\n",
       "0                    Software Development Engineer II      NaN       NaN   \n",
       "1                         Software Engineer - Backend      NaN       NaN   \n",
       "2   Software Engineer II, Backend (Ledger Engineer...      NaN       NaN   \n",
       "3            Software Engineer, Simulation, Tesla Bot      NaN       NaN   \n",
       "4         Staff Software Engineer, Customer Obsession      NaN       NaN   \n",
       "5                                   Frontend Engineer      NaN       NaN   \n",
       "6     Backend Software Engineer, Tesla Bot & Robotaxi      NaN       NaN   \n",
       "7   Software Engineer II, Full Stack (Capital Orch...      NaN       NaN   \n",
       "8         Software Engineering LMTS - IDE Experiences      NaN       NaN   \n",
       "9   C++ Software Engineer, Teleoperation, Tesla Bo...      NaN       NaN   \n",
       "10                                  Software Engineer      NaN       NaN   \n",
       "11                      Software Development Engineer      NaN       NaN   \n",
       "12                          Software Engineering AMTS      NaN       NaN   \n",
       "13             Software Engineer 1 - Machine Learning      NaN       NaN   \n",
       "14             Senior Software Engineer - Prototyping      NaN       NaN   \n",
       "\n",
       "                                             Job Link  \n",
       "0   https://www.indeed.com/rc/clk?jk=e314e8cb2d874...  \n",
       "1   https://www.indeed.com/rc/clk?jk=4e374fc1b69d6...  \n",
       "2   https://www.indeed.com/rc/clk?jk=989e6bc7057a0...  \n",
       "3   https://www.indeed.com/rc/clk?jk=f4d5128fc3f1d...  \n",
       "4   https://www.indeed.com/rc/clk?jk=5c1f7783d4244...  \n",
       "5   https://www.indeed.com/rc/clk?jk=d7a79f4debb76...  \n",
       "6   https://www.indeed.com/rc/clk?jk=f2e3b39c3986a...  \n",
       "7   https://www.indeed.com/rc/clk?jk=7b3066204f040...  \n",
       "8   https://www.indeed.com/rc/clk?jk=bb22967bc8ef6...  \n",
       "9   https://www.indeed.com/rc/clk?jk=37833fa040463...  \n",
       "10  https://www.indeed.com/rc/clk?jk=ef0556c17c57b...  \n",
       "11  https://www.indeed.com/rc/clk?jk=3eb4281142ec4...  \n",
       "12  https://www.indeed.com/rc/clk?jk=ccffd9f4c32ca...  \n",
       "13  https://www.indeed.com/rc/clk?jk=2ec6e56d58e91...  \n",
       "14  https://www.indeed.com/rc/clk?jk=fcabccb91a295...  >"
      ]
     },
     "execution_count": 17,
     "metadata": {},
     "output_type": "execute_result"
    }
   ],
   "source": [
    "cmp.describe"
   ]
  },
  {
   "cell_type": "code",
   "execution_count": null,
   "id": "33a79e5a-4765-4ed3-a99e-5e261c072a37",
   "metadata": {},
   "outputs": [],
   "source": []
  }
 ],
 "metadata": {
  "kernelspec": {
   "display_name": "Python 3 (ipykernel)",
   "language": "python",
   "name": "python3"
  },
  "language_info": {
   "codemirror_mode": {
    "name": "ipython",
    "version": 3
   },
   "file_extension": ".py",
   "mimetype": "text/x-python",
   "name": "python",
   "nbconvert_exporter": "python",
   "pygments_lexer": "ipython3",
   "version": "3.12.4"
  }
 },
 "nbformat": 4,
 "nbformat_minor": 5
}
